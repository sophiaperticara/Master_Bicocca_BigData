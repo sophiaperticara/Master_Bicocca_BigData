# O B I E T T I V O --> RICOSTRUIRE UN DB COMPLETO DOVE HO LA LISTA DEI PRODOTTI E IL SUO INCI
# COSTRUISCO ANCHE UN DIZIONARIO GENERALE CON INCI E RELATIVO SEMAFORO (verde/giallo/rosso)
# IN QUESTO MODO POSSO FARE ANALISI PER CATEGORIE DI PRODOTTI, BRAND ECC..
# QUAL è IL PRODOTTO MIGLIORE TRA I DETERGENTI E QUELLO PEGGIORE
# SI POSSONO STORARE ANCHE LE IMMAGINI DI CIASCUN PRODOTTO (CLARIFAI?)
# PRODOTTI CHE HANNO 


path_chromedr = r'C:\Users\sophi\OneDrive\Desktop\MASTER\chromedriver_win32\chromedriver'  
url_saicosatispalmi = r'http://forum.saicosatispalmi.org/forum/viewtopic.php?t=9129'

from os import scandir
from ast import Index
import sys
sys.path.insert(0,path_chromedr)
from selenium import webdriver
from tqdm import tqdm
import pprint as pp
import pandas as pd
import time
import pymongo
import json
import csv 
from datetime import datetime

chrome_options = webdriver.ChromeOptions()
chrome_options.add_argument('headless')
chrome_options.add_argument('excludeSwitches')
chrome_options.add_argument('--no-sandbox')
chrome_options.add_argument('--disable-dev-shm-usage')
chrome_options.add_argument("user-agent=Mozilla/5.0 (Macintosh; Intel Mac OS X 10_15_7) AppleWebKit/537.36 (KHTML, like Gecko) Chrome/90.0.4430.212 Safari/537.36")

print(sys.path[0])

wd = webdriver.Chrome(path_chromedr,chrome_options=chrome_options)

wd.get(url_saicosatispalmi)
main_window = wd.current_window_handle
print(main_window)

#devo ciclare su tutte le lettere dell'alfabeto

#cerco per classe a postlink (link iniziale collegato a ciascuna lettera dell'alfabeto)
iniziali_cosmetici = wd.find_elements_by_css_selector("span > span > span > a.postlink")

lettere = []
for iniziale in iniziali_cosmetici:
    lettera = iniziale.text
    link    = iniziale.get_attribute('href')

    iniziale_dict = {
        'lettera' : lettera,
        'link'    : link
    }
    lettere.append(iniziale_dict)

lista_prodotti_tot= []

start = datetime.now()
print(f'INIZIO CONTEGGIO: {start}')
#1. CICLO SULLE LETTERE
for ind, elemento in tqdm(enumerate(iniziali_cosmetici)):
    lettera = iniziali_cosmetici[ind].text
    
    print(f'ciclo lettere: {ind+1} di {len(lettere)}, lettera: {lettera}')

    wd = webdriver.Chrome(path_chromedr,chrome_options=chrome_options)
    with wd as wd:
        url_lettera=elemento.get_attribute("href")    
        wd.get(url_lettera)  
        lista_prodotti = wd.find_elements_by_css_selector("div > div.postbody > div.content > a")

        #2. CICLO SUI PRODOTTI DI CIASCUNA LETTERA
        for i, prod in enumerate(lista_prodotti):      
            prodotto = lista_prodotti[i].text
            lista_prodotti_tot.append(prodotto)

        print(f'fino a lettera: {lettera}, num prodotti: {len(lista_prodotti_tot)}')
            
fine = datetime.now()

print(f'FINE CONTEGGIO:{fine} - DURATA : {fine-start}')
print(f'totale prodotti: {len(lista_prodotti_tot)}')    


 